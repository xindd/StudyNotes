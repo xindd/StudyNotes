{
 "cells": [
  {
   "cell_type": "code",
   "execution_count": 163,
   "metadata": {},
   "outputs": [],
   "source": [
    "import numpy as np # 导入numpy包\n",
    "import matplotlib.pyplot as plt\n",
    "from sklearn.model_selection import train_test_split"
   ]
  },
  {
   "cell_type": "code",
   "execution_count": 170,
   "metadata": {},
   "outputs": [],
   "source": [
    "class Perceptron(object):\n",
    "    # 初始化对象\n",
    "    def __init__(self, eta=0.01, n_iter=100):\n",
    "        self.eta=eta\n",
    "        self.n_iter=n_iter\n",
    "    \n",
    "    # 训练模型\n",
    "    def train(self, X,Y):\n",
    "        # 随机初始权重\n",
    "        self.W = np.random.random(1+X.shape[1])\n",
    "        # X = np.hstack((np.ones(shape=(X.shape[0],1)), X))\n",
    "        for _ in range(self.n_iter):\n",
    "            for tranX, labelY in zip(X,Y):\n",
    "                # 计算梯度\n",
    "                dtW = self.eta * (labelY - self.predict(tranX)) * np.hstack((1, tranX))\n",
    "                self.W += dtW\n",
    "    # 预测模型    \n",
    "    def predict(self,tranX):\n",
    "        tranX = np.hstack((1, tranX))\n",
    "        return np.sign(np.dot(tranX, self.W.T))\n",
    "        #return np.where(np.dot(tranX, self.W.T)>=0.0,1,-1)\n",
    "    \n",
    "    def plotRes(self,X,Y):\n",
    "        '''\n",
    "            因为期望输出的值为（1或者-1）\n",
    "            即：w0+w1x1+······+wnxn>0或w0+w1x1+······+wnxn<0\n",
    "            所以它们的分界线为：\n",
    "            w0+w1x1+······+wnxn=0\n",
    "            二维时为：\n",
    "            w0+w1x1+w2x2=0\n",
    "            w2x2=-w1x1-w0\n",
    "            x2=-(w1/w2)x1-w0/w2\n",
    "            x2=kx1+b\n",
    "        '''\n",
    "        k=-self.W[1]/self.W[2]\n",
    "        d=-self.W[0]/self.W[2]\n",
    "        print('k=',k)\n",
    "        print('d=',d)\n",
    "        xdata=np.linspace(np.min(X),np.max(X))\n",
    "        plt.figure()\n",
    "        plt.plot(xdata,xdata*k+d)\n",
    "        plt.plot(X[np.where(Y==1),0],X[np.where(Y==1),1], 'go')\n",
    "        plt.plot(X[np.where(Y==-1),0],X[np.where(Y==-1),1], 'ro')\n",
    "        plt.show()"
   ]
  },
  {
   "cell_type": "code",
   "execution_count": 194,
   "metadata": {},
   "outputs": [],
   "source": [
    "#定义坐标,设定6组输入数据，每组为（x1,x2）\n",
    "X=np.array([[4,3],\n",
    "            [5,4],\n",
    "            [4,5],\n",
    "            [1,1],\n",
    "            [2,1],\n",
    "            [3,2]])\n",
    "#设定输入向量的期待输出值\n",
    "Y=np.array([1,1,1,-1,-1,-1])\n",
    "\n",
    "X1 = np.random.randint(0,10, size=(20,2))\n",
    "X2 = np.random.randint(5,20, size=(20,2))\n",
    "X = np.vstack((X1,X2))\n",
    "Label = np.hstack((np.ones(20), -np.ones(20)))\n",
    "\n",
    "#训练集和测试集划分\n",
    "X_train,X_test,y_train,y_test=train_test_split(X,Label,test_size=0.3,random_state=0)"
   ]
  },
  {
   "cell_type": "code",
   "execution_count": 209,
   "metadata": {},
   "outputs": [
    {
     "name": "stdout",
     "output_type": "stream",
     "text": [
      "k= -0.41955796198164397\n",
      "d= 13.237961273248956\n"
     ]
    },
    {
     "data": {
      "image/png": "[encoded data removed]",
      "text/plain": [
       "<Figure size 432x288 with 1 Axes>"
      ]
     },
     "metadata": {
      "needs_background": "light"
     },
     "output_type": "display_data"
    }
   ],
   "source": [
    "pe = Perceptron(n_iter=500)\n",
    "pe.train(X_train,y_train)\n",
    "pe.plotRes(X_train,y_train)"
   ]
  },
  {
   "cell_type": "code",
   "execution_count": 210,
   "metadata": {},
   "outputs": [
    {
     "name": "stdout",
     "output_type": "stream",
     "text": [
      "k= -0.41955796198164397\n",
      "d= 13.237961273248956\n"
     ]
    },
    {
     "data": {
      "image/png": "[encoded data removed]",
      "text/plain": [
       "<Figure size 432x288 with 1 Axes>"
      ]
     },
     "metadata": {
      "needs_background": "light"
     },
     "output_type": "display_data"
    }
   ],
   "source": [
    "pe.plotRes(X_test,y_test)"
   ]
  },
  {
   "cell_type": "code",
   "execution_count": 217,
   "metadata": {},
   "outputs": [
    {
     "name": "stdout",
     "output_type": "stream",
     "text": [
      "精度： 1.0\n"
     ]
    }
   ],
   "source": [
    "truenumber = 0.\n",
    "for x,y in zip(X_test, y_test):\n",
    "    if pe.predict(x)==y:\n",
    "        truenumber += 1\n",
    "print('精度：',truenumber/len(y_test))"
   ]
  }
 ],
 "metadata": {
  "kernelspec": {
   "display_name": "Python 3",
   "language": "python",
   "name": "python3"
  },
  "language_info": {
   "codemirror_mode": {
    "name": "ipython",
    "version": 3
   },
   "file_extension": ".py",
   "mimetype": "text/x-python",
   "name": "python",
   "nbconvert_exporter": "python",
   "pygments_lexer": "ipython3",
   "version": "3.6.5"
  }
 },
 "nbformat": 4,
 "nbformat_minor": 2
}
